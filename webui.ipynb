{
 "cells": [
  {
   "cell_type": "code",
   "execution_count": 23,
   "metadata": {},
   "outputs": [
    {
     "name": "stdout",
     "output_type": "stream",
     "text": [
      "The autoreload extension is already loaded. To reload it, use:\n",
      "  %reload_ext autoreload\n"
     ]
    }
   ],
   "source": [
    "%load_ext autoreload\n",
    "%autoreload 2\n",
    "%matplotlib inline\n",
    "\n",
    "\n",
    "import json\n",
    "\n",
    "import nibabel\n",
    "import nilearn\n",
    "import numpy as np\n",
    "import sklearn\n",
    "import pandas as pd\n",
    "\n",
    "from nilearn import plotting\n",
    "\n",
    "import rtcloud"
   ]
  },
  {
   "cell_type": "code",
   "execution_count": null,
   "metadata": {},
   "outputs": [],
   "source": [
    "# Prepare test samples\n",
    "test_subject = 2\n",
    "data_dir = \"data\"\n",
    "\n",
    "haxby = nilearn.datasets.fetch_haxby(data_dir=\"datasets\", subjects=[test_subject])\n",
    "labels_test = pd.read_csv(haxby.session_target[0], sep=\" \")\n",
    "y_test_all = labels_test[\"labels\"]\n",
    "condition_mask_test = y_test_all.isin([\"face\", \"house\"])"
   ]
  },
  {
   "cell_type": "code",
   "execution_count": 13,
   "metadata": {},
   "outputs": [],
   "source": [
    "fmri_img_test = nilearn.image.index_img(haxby.func[0], condition_mask_test)\n",
    "fmri_data_test = fmri_img_test.get_data()\n",
    "y_test = y_test_all[condition_mask_test]\n",
    "for sample in range(fmri_data_test.shape[-1]):\n",
    "    sample_data = fmri_data_test[..., sample][..., np.newaxis]\n",
    "    sample_img = nilearn.image.new_img_like(fmri_img_test, sample_data)\n",
    "    nibabel.save(sample_img, \"{}/subject-{}-sample-{:03}.nii.gz\".format(data_dir, test_subject, sample))"
   ]
  },
  {
   "cell_type": "code",
   "execution_count": 33,
   "metadata": {},
   "outputs": [],
   "source": [
    "conf = {\n",
    "    'test': 1\n",
    "}\n",
    "mask_img = nibabel.load(haxby.mask)\n",
    "conf['experiment_data'] = {\n",
    "    \"models\": sklearn.externals.joblib.load(\"models.pkl\"),\n",
    "    \"mask_data\": mask_img.get_data().astype(bool),\n",
    "    \"mask_affine\": mask_img.affine,\n",
    "}\n",
    "\n",
    "client = rtcloud.Client(server_ip='34.237.207.176', conf=conf)\n",
    "client.start()"
   ]
  },
  {
   "cell_type": "code",
   "execution_count": 35,
   "metadata": {},
   "outputs": [
    {
     "name": "stderr",
     "output_type": "stream",
     "text": [
      "ERROR:pika.adapters.base_connection:Connection to 34.237.207.176:5672 failed: timeout\n",
      "WARNING:pika.connection:Could not connect, 0 attempts left\n",
      "ERROR:pika.adapters.blocking_connection:Connection open failed - 'Connection to 34.237.207.176:5672 failed: timeout'\n",
      "Process Process-9:\n",
      "Traceback (most recent call last):\n",
      "  File \"/home/mihai/.local/lib/python3.5/site-packages/multiprocess/process.py\", line 249, in _bootstrap\n",
      "    self.run()\n",
      "  File \"/home/mihai/.local/lib/python3.5/site-packages/multiprocess/process.py\", line 93, in run\n",
      "    self._target(*self._args, **self._kwargs)\n",
      "  File \"/home/mihai/Surse/rtcloud/rtcloud/client.py\", line 104, in queue_helper\n",
      "    channel = get_channel(server_ip, queue_work_name)\n",
      "  File \"/home/mihai/Surse/rtcloud/rtcloud/client.py\", line 29, in get_channel\n",
      "    rmq = pika.BlockingConnection(pika.ConnectionParameters(address))\n",
      "  File \"/home/mihai/.local/lib/python3.5/site-packages/pika/adapters/blocking_connection.py\", line 374, in __init__\n",
      "    self._process_io_for_connection_setup()\n",
      "  File \"/home/mihai/.local/lib/python3.5/site-packages/pika/adapters/blocking_connection.py\", line 414, in _process_io_for_connection_setup\n",
      "    self._open_error_result.is_ready)\n",
      "  File \"/home/mihai/.local/lib/python3.5/site-packages/pika/adapters/blocking_connection.py\", line 468, in _flush_output\n",
      "    raise exceptions.ConnectionClosed(maybe_exception)\n",
      "pika.exceptions.ConnectionClosed: Connection to 34.237.207.176:5672 failed: timeout\n"
     ]
    }
   ],
   "source": [
    "client.queue(input_dir=data_dir, tr=2002, loop=True)"
   ]
  },
  {
   "cell_type": "code",
   "execution_count": 34,
   "metadata": {},
   "outputs": [
    {
     "name": "stdout",
     "output_type": "stream",
     "text": [
      "Starting to watch!\n"
     ]
    },
    {
     "name": "stderr",
     "output_type": "stream",
     "text": [
      "ERROR:pika.adapters.base_connection:Connection to 34.237.207.176:5672 failed: timeout\n",
      "WARNING:pika.connection:Could not connect, 0 attempts left\n",
      "ERROR:pika.adapters.blocking_connection:Connection open failed - 'Connection to 34.237.207.176:5672 failed: timeout'\n",
      "Process Process-7:\n",
      "Traceback (most recent call last):\n",
      "ERROR:pika.adapters.base_connection:Connection to 34.237.207.176:5672 failed: timeout\n",
      "  File \"/home/mihai/.local/lib/python3.5/site-packages/multiprocess/process.py\", line 249, in _bootstrap\n",
      "    self.run()\n",
      "  File \"/home/mihai/.local/lib/python3.5/site-packages/multiprocess/process.py\", line 93, in run\n",
      "    self._target(*self._args, **self._kwargs)\n",
      "WARNING:pika.connection:Could not connect, 0 attempts left\n",
      "  File \"/home/mihai/Surse/rtcloud/rtcloud/client.py\", line 104, in queue_helper\n",
      "    channel = get_channel(server_ip, queue_work_name)\n",
      "  File \"/home/mihai/Surse/rtcloud/rtcloud/client.py\", line 29, in get_channel\n",
      "    rmq = pika.BlockingConnection(pika.ConnectionParameters(address))\n",
      "ERROR:pika.adapters.blocking_connection:Connection open failed - 'Connection to 34.237.207.176:5672 failed: timeout'\n",
      "  File \"/home/mihai/.local/lib/python3.5/site-packages/pika/adapters/blocking_connection.py\", line 374, in __init__\n",
      "    self._process_io_for_connection_setup()\n",
      "Process Process-8:\n",
      "  File \"/home/mihai/.local/lib/python3.5/site-packages/pika/adapters/blocking_connection.py\", line 414, in _process_io_for_connection_setup\n",
      "    self._open_error_result.is_ready)\n",
      "Traceback (most recent call last):\n",
      "  File \"/home/mihai/.local/lib/python3.5/site-packages/multiprocess/process.py\", line 249, in _bootstrap\n",
      "    self.run()\n",
      "  File \"/home/mihai/.local/lib/python3.5/site-packages/pika/adapters/blocking_connection.py\", line 468, in _flush_output\n",
      "    raise exceptions.ConnectionClosed(maybe_exception)\n",
      "  File \"/home/mihai/.local/lib/python3.5/site-packages/multiprocess/process.py\", line 93, in run\n",
      "    self._target(*self._args, **self._kwargs)\n",
      "  File \"/home/mihai/Surse/rtcloud/rtcloud/client.py\", line 152, in watch_helper\n",
      "    channel = get_channel(server_ip, queue_result_name)\n",
      "pika.exceptions.ConnectionClosed: Connection to 34.237.207.176:5672 failed: timeout\n",
      "  File \"/home/mihai/Surse/rtcloud/rtcloud/client.py\", line 29, in get_channel\n",
      "    rmq = pika.BlockingConnection(pika.ConnectionParameters(address))\n",
      "  File \"/home/mihai/.local/lib/python3.5/site-packages/pika/adapters/blocking_connection.py\", line 374, in __init__\n",
      "    self._process_io_for_connection_setup()\n",
      "  File \"/home/mihai/.local/lib/python3.5/site-packages/pika/adapters/blocking_connection.py\", line 414, in _process_io_for_connection_setup\n",
      "    self._open_error_result.is_ready)\n",
      "  File \"/home/mihai/.local/lib/python3.5/site-packages/pika/adapters/blocking_connection.py\", line 468, in _flush_output\n",
      "    raise exceptions.ConnectionClosed(maybe_exception)\n",
      "pika.exceptions.ConnectionClosed: Connection to 34.237.207.176:5672 failed: timeout\n"
     ]
    },
    {
     "ename": "KeyboardInterrupt",
     "evalue": "",
     "output_type": "error",
     "traceback": [
      "\u001b[0;31m---------------------------------------------------------------------------\u001b[0m",
      "\u001b[0;31mKeyboardInterrupt\u001b[0m                         Traceback (most recent call last)",
      "\u001b[0;32m<ipython-input-34-441227835115>\u001b[0m in \u001b[0;36m<module>\u001b[0;34m()\u001b[0m\n\u001b[1;32m      1\u001b[0m \u001b[0mclient\u001b[0m\u001b[0;34m.\u001b[0m\u001b[0mqueue\u001b[0m\u001b[0;34m(\u001b[0m\u001b[0minput_dir\u001b[0m\u001b[0;34m=\u001b[0m\u001b[0mdata_dir\u001b[0m\u001b[0;34m,\u001b[0m \u001b[0mtr\u001b[0m\u001b[0;34m=\u001b[0m\u001b[0;36m2002\u001b[0m\u001b[0;34m,\u001b[0m \u001b[0mloop\u001b[0m\u001b[0;34m=\u001b[0m\u001b[0;32mTrue\u001b[0m\u001b[0;34m)\u001b[0m\u001b[0;34m\u001b[0m\u001b[0m\n\u001b[1;32m      2\u001b[0m \u001b[0mclient\u001b[0m\u001b[0;34m.\u001b[0m\u001b[0mwatch\u001b[0m\u001b[0;34m(\u001b[0m\u001b[0;34m)\u001b[0m\u001b[0;34m\u001b[0m\u001b[0m\n\u001b[0;32m----> 3\u001b[0;31m \u001b[0mclient\u001b[0m\u001b[0;34m.\u001b[0m\u001b[0mdisplay\u001b[0m\u001b[0;34m(\u001b[0m\u001b[0;34m)\u001b[0m\u001b[0;34m\u001b[0m\u001b[0m\n\u001b[0m",
      "\u001b[0;32m~/Surse/rtcloud/rtcloud/client.py\u001b[0m in \u001b[0;36mdisplay\u001b[0;34m(self)\u001b[0m\n\u001b[1;32m     88\u001b[0m         \u001b[0mf\u001b[0m\u001b[0;34m,\u001b[0m \u001b[0maxarr\u001b[0m \u001b[0;34m=\u001b[0m \u001b[0mplt\u001b[0m\u001b[0;34m.\u001b[0m\u001b[0msubplots\u001b[0m\u001b[0;34m(\u001b[0m\u001b[0;36m2\u001b[0m\u001b[0;34m,\u001b[0m \u001b[0msharey\u001b[0m\u001b[0;34m=\u001b[0m\u001b[0;32mTrue\u001b[0m\u001b[0;34m)\u001b[0m\u001b[0;34m\u001b[0m\u001b[0m\n\u001b[1;32m     89\u001b[0m         \u001b[0;32mwhile\u001b[0m \u001b[0;32mTrue\u001b[0m\u001b[0;34m:\u001b[0m\u001b[0;34m\u001b[0m\u001b[0m\n\u001b[0;32m---> 90\u001b[0;31m             \u001b[0mresult\u001b[0m \u001b[0;34m=\u001b[0m \u001b[0mself\u001b[0m\u001b[0;34m.\u001b[0m\u001b[0mdisplay_queue\u001b[0m\u001b[0;34m.\u001b[0m\u001b[0mget\u001b[0m\u001b[0;34m(\u001b[0m\u001b[0;34m)\u001b[0m\u001b[0;34m\u001b[0m\u001b[0m\n\u001b[0m\u001b[1;32m     91\u001b[0m             \u001b[0;32mif\u001b[0m \u001b[0mresult\u001b[0m\u001b[0;34m[\u001b[0m\u001b[0;34m'src'\u001b[0m\u001b[0;34m]\u001b[0m \u001b[0;34m==\u001b[0m \u001b[0;34m'input'\u001b[0m\u001b[0;34m:\u001b[0m\u001b[0;34m\u001b[0m\u001b[0m\n\u001b[1;32m     92\u001b[0m                 \u001b[0minput_counter\u001b[0m \u001b[0;34m+=\u001b[0m \u001b[0;36m1\u001b[0m\u001b[0;34m\u001b[0m\u001b[0m\n",
      "\u001b[0;32m~/.local/lib/python3.5/site-packages/multiprocess/queues.py\u001b[0m in \u001b[0;36mget\u001b[0;34m(self, block, timeout)\u001b[0m\n\u001b[1;32m     95\u001b[0m         \u001b[0;32mif\u001b[0m \u001b[0mblock\u001b[0m \u001b[0;32mand\u001b[0m \u001b[0mtimeout\u001b[0m \u001b[0;32mis\u001b[0m \u001b[0;32mNone\u001b[0m\u001b[0;34m:\u001b[0m\u001b[0;34m\u001b[0m\u001b[0m\n\u001b[1;32m     96\u001b[0m             \u001b[0;32mwith\u001b[0m \u001b[0mself\u001b[0m\u001b[0;34m.\u001b[0m\u001b[0m_rlock\u001b[0m\u001b[0;34m:\u001b[0m\u001b[0;34m\u001b[0m\u001b[0m\n\u001b[0;32m---> 97\u001b[0;31m                 \u001b[0mres\u001b[0m \u001b[0;34m=\u001b[0m \u001b[0mself\u001b[0m\u001b[0;34m.\u001b[0m\u001b[0m_recv_bytes\u001b[0m\u001b[0;34m(\u001b[0m\u001b[0;34m)\u001b[0m\u001b[0;34m\u001b[0m\u001b[0m\n\u001b[0m\u001b[1;32m     98\u001b[0m             \u001b[0mself\u001b[0m\u001b[0;34m.\u001b[0m\u001b[0m_sem\u001b[0m\u001b[0;34m.\u001b[0m\u001b[0mrelease\u001b[0m\u001b[0;34m(\u001b[0m\u001b[0;34m)\u001b[0m\u001b[0;34m\u001b[0m\u001b[0m\n\u001b[1;32m     99\u001b[0m         \u001b[0;32melse\u001b[0m\u001b[0;34m:\u001b[0m\u001b[0;34m\u001b[0m\u001b[0m\n",
      "\u001b[0;32m~/.local/lib/python3.5/site-packages/multiprocess/connection.py\u001b[0m in \u001b[0;36mrecv_bytes\u001b[0;34m(self, maxlength)\u001b[0m\n\u001b[1;32m    217\u001b[0m         \u001b[0;32mif\u001b[0m \u001b[0mmaxlength\u001b[0m \u001b[0;32mis\u001b[0m \u001b[0;32mnot\u001b[0m \u001b[0;32mNone\u001b[0m \u001b[0;32mand\u001b[0m \u001b[0mmaxlength\u001b[0m \u001b[0;34m<\u001b[0m \u001b[0;36m0\u001b[0m\u001b[0;34m:\u001b[0m\u001b[0;34m\u001b[0m\u001b[0m\n\u001b[1;32m    218\u001b[0m             \u001b[0;32mraise\u001b[0m \u001b[0mValueError\u001b[0m\u001b[0;34m(\u001b[0m\u001b[0;34m\"negative maxlength\"\u001b[0m\u001b[0;34m)\u001b[0m\u001b[0;34m\u001b[0m\u001b[0m\n\u001b[0;32m--> 219\u001b[0;31m         \u001b[0mbuf\u001b[0m \u001b[0;34m=\u001b[0m \u001b[0mself\u001b[0m\u001b[0;34m.\u001b[0m\u001b[0m_recv_bytes\u001b[0m\u001b[0;34m(\u001b[0m\u001b[0mmaxlength\u001b[0m\u001b[0;34m)\u001b[0m\u001b[0;34m\u001b[0m\u001b[0m\n\u001b[0m\u001b[1;32m    220\u001b[0m         \u001b[0;32mif\u001b[0m \u001b[0mbuf\u001b[0m \u001b[0;32mis\u001b[0m \u001b[0;32mNone\u001b[0m\u001b[0;34m:\u001b[0m\u001b[0;34m\u001b[0m\u001b[0m\n\u001b[1;32m    221\u001b[0m             \u001b[0mself\u001b[0m\u001b[0;34m.\u001b[0m\u001b[0m_bad_message_length\u001b[0m\u001b[0;34m(\u001b[0m\u001b[0;34m)\u001b[0m\u001b[0;34m\u001b[0m\u001b[0m\n",
      "\u001b[0;32m~/.local/lib/python3.5/site-packages/multiprocess/connection.py\u001b[0m in \u001b[0;36m_recv_bytes\u001b[0;34m(self, maxsize)\u001b[0m\n\u001b[1;32m    408\u001b[0m \u001b[0;34m\u001b[0m\u001b[0m\n\u001b[1;32m    409\u001b[0m     \u001b[0;32mdef\u001b[0m \u001b[0m_recv_bytes\u001b[0m\u001b[0;34m(\u001b[0m\u001b[0mself\u001b[0m\u001b[0;34m,\u001b[0m \u001b[0mmaxsize\u001b[0m\u001b[0;34m=\u001b[0m\u001b[0;32mNone\u001b[0m\u001b[0;34m)\u001b[0m\u001b[0;34m:\u001b[0m\u001b[0;34m\u001b[0m\u001b[0m\n\u001b[0;32m--> 410\u001b[0;31m         \u001b[0mbuf\u001b[0m \u001b[0;34m=\u001b[0m \u001b[0mself\u001b[0m\u001b[0;34m.\u001b[0m\u001b[0m_recv\u001b[0m\u001b[0;34m(\u001b[0m\u001b[0;36m4\u001b[0m\u001b[0;34m)\u001b[0m\u001b[0;34m\u001b[0m\u001b[0m\n\u001b[0m\u001b[1;32m    411\u001b[0m         \u001b[0msize\u001b[0m\u001b[0;34m,\u001b[0m \u001b[0;34m=\u001b[0m \u001b[0mstruct\u001b[0m\u001b[0;34m.\u001b[0m\u001b[0munpack\u001b[0m\u001b[0;34m(\u001b[0m\u001b[0;34m\"!i\"\u001b[0m\u001b[0;34m,\u001b[0m \u001b[0mbuf\u001b[0m\u001b[0;34m.\u001b[0m\u001b[0mgetvalue\u001b[0m\u001b[0;34m(\u001b[0m\u001b[0;34m)\u001b[0m\u001b[0;34m)\u001b[0m\u001b[0;34m\u001b[0m\u001b[0m\n\u001b[1;32m    412\u001b[0m         \u001b[0;32mif\u001b[0m \u001b[0mmaxsize\u001b[0m \u001b[0;32mis\u001b[0m \u001b[0;32mnot\u001b[0m \u001b[0;32mNone\u001b[0m \u001b[0;32mand\u001b[0m \u001b[0msize\u001b[0m \u001b[0;34m>\u001b[0m \u001b[0mmaxsize\u001b[0m\u001b[0;34m:\u001b[0m\u001b[0;34m\u001b[0m\u001b[0m\n",
      "\u001b[0;32m~/.local/lib/python3.5/site-packages/multiprocess/connection.py\u001b[0m in \u001b[0;36m_recv\u001b[0;34m(self, size, read)\u001b[0m\n\u001b[1;32m    380\u001b[0m         \u001b[0mremaining\u001b[0m \u001b[0;34m=\u001b[0m \u001b[0msize\u001b[0m\u001b[0;34m\u001b[0m\u001b[0m\n\u001b[1;32m    381\u001b[0m         \u001b[0;32mwhile\u001b[0m \u001b[0mremaining\u001b[0m \u001b[0;34m>\u001b[0m \u001b[0;36m0\u001b[0m\u001b[0;34m:\u001b[0m\u001b[0;34m\u001b[0m\u001b[0m\n\u001b[0;32m--> 382\u001b[0;31m             \u001b[0mchunk\u001b[0m \u001b[0;34m=\u001b[0m \u001b[0mread\u001b[0m\u001b[0;34m(\u001b[0m\u001b[0mhandle\u001b[0m\u001b[0;34m,\u001b[0m \u001b[0mremaining\u001b[0m\u001b[0;34m)\u001b[0m\u001b[0;34m\u001b[0m\u001b[0m\n\u001b[0m\u001b[1;32m    383\u001b[0m             \u001b[0mn\u001b[0m \u001b[0;34m=\u001b[0m \u001b[0mlen\u001b[0m\u001b[0;34m(\u001b[0m\u001b[0mchunk\u001b[0m\u001b[0;34m)\u001b[0m\u001b[0;34m\u001b[0m\u001b[0m\n\u001b[1;32m    384\u001b[0m             \u001b[0;32mif\u001b[0m \u001b[0mn\u001b[0m \u001b[0;34m==\u001b[0m \u001b[0;36m0\u001b[0m\u001b[0;34m:\u001b[0m\u001b[0;34m\u001b[0m\u001b[0m\n",
      "\u001b[0;31mKeyboardInterrupt\u001b[0m: "
     ]
    },
    {
     "data": {
      "image/png": "[encoded data removed]",
      "text/plain": [
       "<matplotlib.figure.Figure at 0x7f08d1c13278>"
      ]
     },
     "metadata": {},
     "output_type": "display_data"
    }
   ],
   "source": [
    "client.watch()\n",
    "client.display()"
   ]
  }
 ],
 "metadata": {
  "kernelspec": {
   "display_name": "Python 3",
   "language": "python",
   "name": "python3"
  },
  "language_info": {
   "codemirror_mode": {
    "name": "ipython",
    "version": 3
   },
   "file_extension": ".py",
   "mimetype": "text/x-python",
   "name": "python",
   "nbconvert_exporter": "python",
   "pygments_lexer": "ipython3",
   "version": "3.5.2"
  }
 },
 "nbformat": 4,
 "nbformat_minor": 2
}
